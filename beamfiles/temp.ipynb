{
 "cells": [
  {
   "cell_type": "code",
   "execution_count": 1,
   "metadata": {},
   "outputs": [
    {
     "name": "stdout",
     "output_type": "stream",
     "text": [
      "     date_rep  day  month  year  cases  deaths countries_and_territories  \\\n",
      "0  2020-12-14   14     12  2020  746.0       6               Afghanistan   \n",
      "1  2020-12-13   13     12  2020  298.0       9               Afghanistan   \n",
      "2  2020-12-12   12     12  2020  113.0      11               Afghanistan   \n",
      "3  2020-12-11   11     12  2020   63.0      10               Afghanistan   \n",
      "4  2020-12-10   10     12  2020  202.0      16               Afghanistan   \n",
      "\n",
      "  geo_id country_territory_code pop_data_2018 continent_exp  \\\n",
      "0     AF                    AFG          None          Asia   \n",
      "1     AF                    AFG          None          Asia   \n",
      "2     AF                    AFG          None          Asia   \n",
      "3     AF                    AFG          None          Asia   \n",
      "4     AF                    AFG          None          Asia   \n",
      "\n",
      "                   load_date iso_country  \n",
      "0 2025-09-08 00:04:25.826228          AF  \n",
      "1 2025-09-08 00:04:25.826228          AF  \n",
      "2 2025-09-08 00:04:25.826228          AF  \n",
      "3 2025-09-08 00:04:25.826228          AF  \n",
      "4 2025-09-08 00:04:25.826228          AF  \n"
     ]
    }
   ],
   "source": [
    "import pandas as pd\n",
    "import s3fs\n",
    "\n",
    "# Configure MinIO connection\n",
    "minio_endpoint = \"localhost:9000\"  # or your MinIO host\n",
    "access_key = \"minioadmin\"\n",
    "secret_key = \"minioadmin\"\n",
    "bucket_name = \"input\"\n",
    "parquet_key = \"data/c62b950b-3c2e-4398-ac67-2569cd9d55bf.parquet\"\n",
    "\n",
    "# Create an S3 filesystem client with the MinIO endpoint and credentials\n",
    "fs = s3fs.S3FileSystem(\n",
    "    key=access_key,\n",
    "    secret=secret_key,\n",
    "    client_kwargs={'endpoint_url': f'http://{minio_endpoint}'},\n",
    "    use_ssl=False\n",
    ")\n",
    "\n",
    "# Compose full S3 URL for the Parquet file in the bucket\n",
    "s3_path = f\"{bucket_name}/{parquet_key}\"\n",
    "\n",
    "# Read the Parquet file into pandas DataFrame\n",
    "df = pd.read_parquet(f\"s3://{s3_path}\", filesystem=fs)\n",
    "\n",
    "print(df.head())\n"
   ]
  }
 ],
 "metadata": {
  "kernelspec": {
   "display_name": ".venv",
   "language": "python",
   "name": "python3"
  },
  "language_info": {
   "codemirror_mode": {
    "name": "ipython",
    "version": 3
   },
   "file_extension": ".py",
   "mimetype": "text/x-python",
   "name": "python",
   "nbconvert_exporter": "python",
   "pygments_lexer": "ipython3",
   "version": "3.9.6"
  },
  "orig_nbformat": 4
 },
 "nbformat": 4,
 "nbformat_minor": 2
}
